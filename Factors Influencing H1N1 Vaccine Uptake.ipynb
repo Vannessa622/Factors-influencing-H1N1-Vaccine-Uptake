{
 "cells": [
  {
   "cell_type": "markdown",
   "id": "046259d9-5d06-4972-933a-ee27782decdd",
   "metadata": {},
   "source": [
    "# Factors Influencing H1N1 Vaccine Uptake: A Predictive Analysis "
   ]
  },
  {
   "cell_type": "markdown",
   "id": "e5b31fdd-f1c0-4664-9c9c-dc4d3d6bd5ed",
   "metadata": {},
   "source": [
    "## Business Understanding\n",
    "\n",
    "Vaccines stimulate the immune system to protect against specific diseases by containing parts of pathogens. Flu vaccines, including seasonal and H1N1 vaccines, help prevent the spread of influenza. Seasonal vaccines are updated yearly, while the H1N1 vaccine was developed after the 2009 pandemic. Vaccination protects individuals and promotes herd immunity, but challenges such as vaccine hesitancy, misinformation, and limited access can hinder widespread uptake.This project aims to predict factors influencing H1N1 vaccine uptake using data from the National 2009 H1N1 Flu Survey. The primary stakeholders are public health officials and policymakers, who will use the insights to design targeted vaccination strategies and improve future public health campaigns. The project will focus on predicting vaccine uptake based on demographic, behavioral, and health-related factors, and will not address issues related to vaccine distribution, policy, or effectiveness. The data source includes demographic information, health behaviors, and vaccination history. The project will be completed within a week, with the goal of providing actionable insights for improving public health outcomes. Clear alignment with stakeholders is essential to ensure the project meets their expectations."
   ]
  },
  {
   "cell_type": "markdown",
   "id": "f49d0bfa-0c11-4327-b8f1-a064af306f0c",
   "metadata": {},
   "source": [
    "## Data Understanding\n",
    "\n",
    "The data for this project comes from three datasets: training_set_features.csv, test_set_features.csv, and training_set_labels.csv. The target variables are whether individuals received the H1N1 vaccine or the seasonal flu vaccine, while the predictors include demographic, health-related, and behavioral features such as age, income, health concerns, and vaccination recommendations. The data includes both categorical (e.g., age group, marital status) and numerical (e.g., household size, income) variables, with some binary and ordinal features. The datasets' size and distribution will be examined during exploration, and if necessary, resampling techniques may be applied to address imbalances. The data is collected via surveys, but it may contain biases or missing values, which will require cleaning and preprocessing before building the model."
   ]
  },
  {
   "cell_type": "markdown",
   "id": "fe8c60c4-0c83-45df-bacc-6a0f372c58be",
   "metadata": {},
   "source": [
    "## Data Preparation"
   ]
  },
  {
   "cell_type": "markdown",
   "id": "b8e868f1-c7a4-4b67-ae9d-08eefb5be84b",
   "metadata": {},
   "source": [
    "Import the pandas library and load the CSV files into DataFrames for further inspection and analysis"
   ]
  },
  {
   "cell_type": "code",
   "execution_count": 1,
   "id": "638525a1-c71b-4904-9dca-5d830003d83a",
   "metadata": {},
   "outputs": [
    {
     "data": {
      "text/html": [
       "<div>\n",
       "<style scoped>\n",
       "    .dataframe tbody tr th:only-of-type {\n",
       "        vertical-align: middle;\n",
       "    }\n",
       "\n",
       "    .dataframe tbody tr th {\n",
       "        vertical-align: top;\n",
       "    }\n",
       "\n",
       "    .dataframe thead th {\n",
       "        text-align: right;\n",
       "    }\n",
       "</style>\n",
       "<table border=\"1\" class=\"dataframe\">\n",
       "  <thead>\n",
       "    <tr style=\"text-align: right;\">\n",
       "      <th></th>\n",
       "      <th>respondent_id</th>\n",
       "      <th>h1n1_concern</th>\n",
       "      <th>h1n1_knowledge</th>\n",
       "      <th>behavioral_antiviral_meds</th>\n",
       "      <th>behavioral_avoidance</th>\n",
       "      <th>behavioral_face_mask</th>\n",
       "      <th>behavioral_wash_hands</th>\n",
       "      <th>behavioral_large_gatherings</th>\n",
       "      <th>behavioral_outside_home</th>\n",
       "      <th>behavioral_touch_face</th>\n",
       "      <th>...</th>\n",
       "      <th>income_poverty</th>\n",
       "      <th>marital_status</th>\n",
       "      <th>rent_or_own</th>\n",
       "      <th>employment_status</th>\n",
       "      <th>hhs_geo_region</th>\n",
       "      <th>census_msa</th>\n",
       "      <th>household_adults</th>\n",
       "      <th>household_children</th>\n",
       "      <th>employment_industry</th>\n",
       "      <th>employment_occupation</th>\n",
       "    </tr>\n",
       "  </thead>\n",
       "  <tbody>\n",
       "    <tr>\n",
       "      <th>0</th>\n",
       "      <td>0</td>\n",
       "      <td>1.0</td>\n",
       "      <td>0.0</td>\n",
       "      <td>0.0</td>\n",
       "      <td>0.0</td>\n",
       "      <td>0.0</td>\n",
       "      <td>0.0</td>\n",
       "      <td>0.0</td>\n",
       "      <td>1.0</td>\n",
       "      <td>1.0</td>\n",
       "      <td>...</td>\n",
       "      <td>Below Poverty</td>\n",
       "      <td>Not Married</td>\n",
       "      <td>Own</td>\n",
       "      <td>Not in Labor Force</td>\n",
       "      <td>oxchjgsf</td>\n",
       "      <td>Non-MSA</td>\n",
       "      <td>0.0</td>\n",
       "      <td>0.0</td>\n",
       "      <td>NaN</td>\n",
       "      <td>NaN</td>\n",
       "    </tr>\n",
       "    <tr>\n",
       "      <th>1</th>\n",
       "      <td>1</td>\n",
       "      <td>3.0</td>\n",
       "      <td>2.0</td>\n",
       "      <td>0.0</td>\n",
       "      <td>1.0</td>\n",
       "      <td>0.0</td>\n",
       "      <td>1.0</td>\n",
       "      <td>0.0</td>\n",
       "      <td>1.0</td>\n",
       "      <td>1.0</td>\n",
       "      <td>...</td>\n",
       "      <td>Below Poverty</td>\n",
       "      <td>Not Married</td>\n",
       "      <td>Rent</td>\n",
       "      <td>Employed</td>\n",
       "      <td>bhuqouqj</td>\n",
       "      <td>MSA, Not Principle  City</td>\n",
       "      <td>0.0</td>\n",
       "      <td>0.0</td>\n",
       "      <td>pxcmvdjn</td>\n",
       "      <td>xgwztkwe</td>\n",
       "    </tr>\n",
       "    <tr>\n",
       "      <th>2</th>\n",
       "      <td>2</td>\n",
       "      <td>1.0</td>\n",
       "      <td>1.0</td>\n",
       "      <td>0.0</td>\n",
       "      <td>1.0</td>\n",
       "      <td>0.0</td>\n",
       "      <td>0.0</td>\n",
       "      <td>0.0</td>\n",
       "      <td>0.0</td>\n",
       "      <td>0.0</td>\n",
       "      <td>...</td>\n",
       "      <td>&lt;= $75,000, Above Poverty</td>\n",
       "      <td>Not Married</td>\n",
       "      <td>Own</td>\n",
       "      <td>Employed</td>\n",
       "      <td>qufhixun</td>\n",
       "      <td>MSA, Not Principle  City</td>\n",
       "      <td>2.0</td>\n",
       "      <td>0.0</td>\n",
       "      <td>rucpziij</td>\n",
       "      <td>xtkaffoo</td>\n",
       "    </tr>\n",
       "    <tr>\n",
       "      <th>3</th>\n",
       "      <td>3</td>\n",
       "      <td>1.0</td>\n",
       "      <td>1.0</td>\n",
       "      <td>0.0</td>\n",
       "      <td>1.0</td>\n",
       "      <td>0.0</td>\n",
       "      <td>1.0</td>\n",
       "      <td>1.0</td>\n",
       "      <td>0.0</td>\n",
       "      <td>0.0</td>\n",
       "      <td>...</td>\n",
       "      <td>Below Poverty</td>\n",
       "      <td>Not Married</td>\n",
       "      <td>Rent</td>\n",
       "      <td>Not in Labor Force</td>\n",
       "      <td>lrircsnp</td>\n",
       "      <td>MSA, Principle City</td>\n",
       "      <td>0.0</td>\n",
       "      <td>0.0</td>\n",
       "      <td>NaN</td>\n",
       "      <td>NaN</td>\n",
       "    </tr>\n",
       "    <tr>\n",
       "      <th>4</th>\n",
       "      <td>4</td>\n",
       "      <td>2.0</td>\n",
       "      <td>1.0</td>\n",
       "      <td>0.0</td>\n",
       "      <td>1.0</td>\n",
       "      <td>0.0</td>\n",
       "      <td>1.0</td>\n",
       "      <td>1.0</td>\n",
       "      <td>0.0</td>\n",
       "      <td>1.0</td>\n",
       "      <td>...</td>\n",
       "      <td>&lt;= $75,000, Above Poverty</td>\n",
       "      <td>Married</td>\n",
       "      <td>Own</td>\n",
       "      <td>Employed</td>\n",
       "      <td>qufhixun</td>\n",
       "      <td>MSA, Not Principle  City</td>\n",
       "      <td>1.0</td>\n",
       "      <td>0.0</td>\n",
       "      <td>wxleyezf</td>\n",
       "      <td>emcorrxb</td>\n",
       "    </tr>\n",
       "  </tbody>\n",
       "</table>\n",
       "<p>5 rows × 36 columns</p>\n",
       "</div>"
      ],
      "text/plain": [
       "   respondent_id  h1n1_concern  h1n1_knowledge  behavioral_antiviral_meds  \\\n",
       "0              0           1.0             0.0                        0.0   \n",
       "1              1           3.0             2.0                        0.0   \n",
       "2              2           1.0             1.0                        0.0   \n",
       "3              3           1.0             1.0                        0.0   \n",
       "4              4           2.0             1.0                        0.0   \n",
       "\n",
       "   behavioral_avoidance  behavioral_face_mask  behavioral_wash_hands  \\\n",
       "0                   0.0                   0.0                    0.0   \n",
       "1                   1.0                   0.0                    1.0   \n",
       "2                   1.0                   0.0                    0.0   \n",
       "3                   1.0                   0.0                    1.0   \n",
       "4                   1.0                   0.0                    1.0   \n",
       "\n",
       "   behavioral_large_gatherings  behavioral_outside_home  \\\n",
       "0                          0.0                      1.0   \n",
       "1                          0.0                      1.0   \n",
       "2                          0.0                      0.0   \n",
       "3                          1.0                      0.0   \n",
       "4                          1.0                      0.0   \n",
       "\n",
       "   behavioral_touch_face  ...             income_poverty  marital_status  \\\n",
       "0                    1.0  ...              Below Poverty     Not Married   \n",
       "1                    1.0  ...              Below Poverty     Not Married   \n",
       "2                    0.0  ...  <= $75,000, Above Poverty     Not Married   \n",
       "3                    0.0  ...              Below Poverty     Not Married   \n",
       "4                    1.0  ...  <= $75,000, Above Poverty         Married   \n",
       "\n",
       "   rent_or_own   employment_status  hhs_geo_region                census_msa  \\\n",
       "0          Own  Not in Labor Force        oxchjgsf                   Non-MSA   \n",
       "1         Rent            Employed        bhuqouqj  MSA, Not Principle  City   \n",
       "2          Own            Employed        qufhixun  MSA, Not Principle  City   \n",
       "3         Rent  Not in Labor Force        lrircsnp       MSA, Principle City   \n",
       "4          Own            Employed        qufhixun  MSA, Not Principle  City   \n",
       "\n",
       "   household_adults  household_children  employment_industry  \\\n",
       "0               0.0                 0.0                  NaN   \n",
       "1               0.0                 0.0             pxcmvdjn   \n",
       "2               2.0                 0.0             rucpziij   \n",
       "3               0.0                 0.0                  NaN   \n",
       "4               1.0                 0.0             wxleyezf   \n",
       "\n",
       "   employment_occupation  \n",
       "0                    NaN  \n",
       "1               xgwztkwe  \n",
       "2               xtkaffoo  \n",
       "3                    NaN  \n",
       "4               emcorrxb  \n",
       "\n",
       "[5 rows x 36 columns]"
      ]
     },
     "execution_count": 1,
     "metadata": {},
     "output_type": "execute_result"
    }
   ],
   "source": [
    "#importing pandas as pd\n",
    "import pandas as pd\n",
    "\n",
    "#loading the  csv datasets into DataFrames\n",
    "training_features_df = pd.read_csv(\"training_set_features.csv\")\n",
    "#Displaying the first few rows\n",
    "training_features_df.head()"
   ]
  },
  {
   "cell_type": "code",
   "execution_count": 2,
   "id": "2f58b4bf-aaed-4f92-8b00-a884c90a6a2d",
   "metadata": {
    "scrolled": true
   },
   "outputs": [
    {
     "data": {
      "text/html": [
       "<div>\n",
       "<style scoped>\n",
       "    .dataframe tbody tr th:only-of-type {\n",
       "        vertical-align: middle;\n",
       "    }\n",
       "\n",
       "    .dataframe tbody tr th {\n",
       "        vertical-align: top;\n",
       "    }\n",
       "\n",
       "    .dataframe thead th {\n",
       "        text-align: right;\n",
       "    }\n",
       "</style>\n",
       "<table border=\"1\" class=\"dataframe\">\n",
       "  <thead>\n",
       "    <tr style=\"text-align: right;\">\n",
       "      <th></th>\n",
       "      <th>respondent_id</th>\n",
       "      <th>h1n1_concern</th>\n",
       "      <th>h1n1_knowledge</th>\n",
       "      <th>behavioral_antiviral_meds</th>\n",
       "      <th>behavioral_avoidance</th>\n",
       "      <th>behavioral_face_mask</th>\n",
       "      <th>behavioral_wash_hands</th>\n",
       "      <th>behavioral_large_gatherings</th>\n",
       "      <th>behavioral_outside_home</th>\n",
       "      <th>behavioral_touch_face</th>\n",
       "      <th>...</th>\n",
       "      <th>income_poverty</th>\n",
       "      <th>marital_status</th>\n",
       "      <th>rent_or_own</th>\n",
       "      <th>employment_status</th>\n",
       "      <th>hhs_geo_region</th>\n",
       "      <th>census_msa</th>\n",
       "      <th>household_adults</th>\n",
       "      <th>household_children</th>\n",
       "      <th>employment_industry</th>\n",
       "      <th>employment_occupation</th>\n",
       "    </tr>\n",
       "  </thead>\n",
       "  <tbody>\n",
       "    <tr>\n",
       "      <th>0</th>\n",
       "      <td>26707</td>\n",
       "      <td>2.0</td>\n",
       "      <td>2.0</td>\n",
       "      <td>0.0</td>\n",
       "      <td>1.0</td>\n",
       "      <td>0.0</td>\n",
       "      <td>1.0</td>\n",
       "      <td>1.0</td>\n",
       "      <td>0.0</td>\n",
       "      <td>1.0</td>\n",
       "      <td>...</td>\n",
       "      <td>&gt; $75,000</td>\n",
       "      <td>Not Married</td>\n",
       "      <td>Rent</td>\n",
       "      <td>Employed</td>\n",
       "      <td>mlyzmhmf</td>\n",
       "      <td>MSA, Not Principle  City</td>\n",
       "      <td>1.0</td>\n",
       "      <td>0.0</td>\n",
       "      <td>atmlpfrs</td>\n",
       "      <td>hfxkjkmi</td>\n",
       "    </tr>\n",
       "    <tr>\n",
       "      <th>1</th>\n",
       "      <td>26708</td>\n",
       "      <td>1.0</td>\n",
       "      <td>1.0</td>\n",
       "      <td>0.0</td>\n",
       "      <td>0.0</td>\n",
       "      <td>0.0</td>\n",
       "      <td>0.0</td>\n",
       "      <td>0.0</td>\n",
       "      <td>0.0</td>\n",
       "      <td>0.0</td>\n",
       "      <td>...</td>\n",
       "      <td>Below Poverty</td>\n",
       "      <td>Not Married</td>\n",
       "      <td>Rent</td>\n",
       "      <td>Employed</td>\n",
       "      <td>bhuqouqj</td>\n",
       "      <td>Non-MSA</td>\n",
       "      <td>3.0</td>\n",
       "      <td>0.0</td>\n",
       "      <td>atmlpfrs</td>\n",
       "      <td>xqwwgdyp</td>\n",
       "    </tr>\n",
       "    <tr>\n",
       "      <th>2</th>\n",
       "      <td>26709</td>\n",
       "      <td>2.0</td>\n",
       "      <td>2.0</td>\n",
       "      <td>0.0</td>\n",
       "      <td>0.0</td>\n",
       "      <td>1.0</td>\n",
       "      <td>1.0</td>\n",
       "      <td>1.0</td>\n",
       "      <td>1.0</td>\n",
       "      <td>1.0</td>\n",
       "      <td>...</td>\n",
       "      <td>&gt; $75,000</td>\n",
       "      <td>Married</td>\n",
       "      <td>Own</td>\n",
       "      <td>Employed</td>\n",
       "      <td>lrircsnp</td>\n",
       "      <td>Non-MSA</td>\n",
       "      <td>1.0</td>\n",
       "      <td>0.0</td>\n",
       "      <td>nduyfdeo</td>\n",
       "      <td>pvmttkik</td>\n",
       "    </tr>\n",
       "    <tr>\n",
       "      <th>3</th>\n",
       "      <td>26710</td>\n",
       "      <td>1.0</td>\n",
       "      <td>1.0</td>\n",
       "      <td>0.0</td>\n",
       "      <td>0.0</td>\n",
       "      <td>0.0</td>\n",
       "      <td>0.0</td>\n",
       "      <td>0.0</td>\n",
       "      <td>0.0</td>\n",
       "      <td>0.0</td>\n",
       "      <td>...</td>\n",
       "      <td>&lt;= $75,000, Above Poverty</td>\n",
       "      <td>Married</td>\n",
       "      <td>Own</td>\n",
       "      <td>Not in Labor Force</td>\n",
       "      <td>lrircsnp</td>\n",
       "      <td>MSA, Not Principle  City</td>\n",
       "      <td>1.0</td>\n",
       "      <td>0.0</td>\n",
       "      <td>NaN</td>\n",
       "      <td>NaN</td>\n",
       "    </tr>\n",
       "    <tr>\n",
       "      <th>4</th>\n",
       "      <td>26711</td>\n",
       "      <td>3.0</td>\n",
       "      <td>1.0</td>\n",
       "      <td>1.0</td>\n",
       "      <td>1.0</td>\n",
       "      <td>0.0</td>\n",
       "      <td>1.0</td>\n",
       "      <td>1.0</td>\n",
       "      <td>1.0</td>\n",
       "      <td>1.0</td>\n",
       "      <td>...</td>\n",
       "      <td>&lt;= $75,000, Above Poverty</td>\n",
       "      <td>Not Married</td>\n",
       "      <td>Own</td>\n",
       "      <td>Employed</td>\n",
       "      <td>lzgpxyit</td>\n",
       "      <td>Non-MSA</td>\n",
       "      <td>0.0</td>\n",
       "      <td>1.0</td>\n",
       "      <td>fcxhlnwr</td>\n",
       "      <td>mxkfnird</td>\n",
       "    </tr>\n",
       "  </tbody>\n",
       "</table>\n",
       "<p>5 rows × 36 columns</p>\n",
       "</div>"
      ],
      "text/plain": [
       "   respondent_id  h1n1_concern  h1n1_knowledge  behavioral_antiviral_meds  \\\n",
       "0          26707           2.0             2.0                        0.0   \n",
       "1          26708           1.0             1.0                        0.0   \n",
       "2          26709           2.0             2.0                        0.0   \n",
       "3          26710           1.0             1.0                        0.0   \n",
       "4          26711           3.0             1.0                        1.0   \n",
       "\n",
       "   behavioral_avoidance  behavioral_face_mask  behavioral_wash_hands  \\\n",
       "0                   1.0                   0.0                    1.0   \n",
       "1                   0.0                   0.0                    0.0   \n",
       "2                   0.0                   1.0                    1.0   \n",
       "3                   0.0                   0.0                    0.0   \n",
       "4                   1.0                   0.0                    1.0   \n",
       "\n",
       "   behavioral_large_gatherings  behavioral_outside_home  \\\n",
       "0                          1.0                      0.0   \n",
       "1                          0.0                      0.0   \n",
       "2                          1.0                      1.0   \n",
       "3                          0.0                      0.0   \n",
       "4                          1.0                      1.0   \n",
       "\n",
       "   behavioral_touch_face  ...             income_poverty  marital_status  \\\n",
       "0                    1.0  ...                  > $75,000     Not Married   \n",
       "1                    0.0  ...              Below Poverty     Not Married   \n",
       "2                    1.0  ...                  > $75,000         Married   \n",
       "3                    0.0  ...  <= $75,000, Above Poverty         Married   \n",
       "4                    1.0  ...  <= $75,000, Above Poverty     Not Married   \n",
       "\n",
       "   rent_or_own   employment_status  hhs_geo_region                census_msa  \\\n",
       "0         Rent            Employed        mlyzmhmf  MSA, Not Principle  City   \n",
       "1         Rent            Employed        bhuqouqj                   Non-MSA   \n",
       "2          Own            Employed        lrircsnp                   Non-MSA   \n",
       "3          Own  Not in Labor Force        lrircsnp  MSA, Not Principle  City   \n",
       "4          Own            Employed        lzgpxyit                   Non-MSA   \n",
       "\n",
       "   household_adults  household_children  employment_industry  \\\n",
       "0               1.0                 0.0             atmlpfrs   \n",
       "1               3.0                 0.0             atmlpfrs   \n",
       "2               1.0                 0.0             nduyfdeo   \n",
       "3               1.0                 0.0                  NaN   \n",
       "4               0.0                 1.0             fcxhlnwr   \n",
       "\n",
       "   employment_occupation  \n",
       "0               hfxkjkmi  \n",
       "1               xqwwgdyp  \n",
       "2               pvmttkik  \n",
       "3                    NaN  \n",
       "4               mxkfnird  \n",
       "\n",
       "[5 rows x 36 columns]"
      ]
     },
     "execution_count": 2,
     "metadata": {},
     "output_type": "execute_result"
    }
   ],
   "source": [
    "#loading the  csv datasets into DataFrames\n",
    "test_features_df = pd.read_csv(\"test_set_features.csv\")\n",
    "#Displaying the first few rows\n",
    "test_features_df.head()"
   ]
  },
  {
   "cell_type": "code",
   "execution_count": 3,
   "id": "787bbe1b-be3c-4545-b0d5-3c958cbbbb95",
   "metadata": {},
   "outputs": [
    {
     "data": {
      "text/html": [
       "<div>\n",
       "<style scoped>\n",
       "    .dataframe tbody tr th:only-of-type {\n",
       "        vertical-align: middle;\n",
       "    }\n",
       "\n",
       "    .dataframe tbody tr th {\n",
       "        vertical-align: top;\n",
       "    }\n",
       "\n",
       "    .dataframe thead th {\n",
       "        text-align: right;\n",
       "    }\n",
       "</style>\n",
       "<table border=\"1\" class=\"dataframe\">\n",
       "  <thead>\n",
       "    <tr style=\"text-align: right;\">\n",
       "      <th></th>\n",
       "      <th>respondent_id</th>\n",
       "      <th>h1n1_vaccine</th>\n",
       "      <th>seasonal_vaccine</th>\n",
       "    </tr>\n",
       "  </thead>\n",
       "  <tbody>\n",
       "    <tr>\n",
       "      <th>0</th>\n",
       "      <td>0</td>\n",
       "      <td>0</td>\n",
       "      <td>0</td>\n",
       "    </tr>\n",
       "    <tr>\n",
       "      <th>1</th>\n",
       "      <td>1</td>\n",
       "      <td>0</td>\n",
       "      <td>1</td>\n",
       "    </tr>\n",
       "    <tr>\n",
       "      <th>2</th>\n",
       "      <td>2</td>\n",
       "      <td>0</td>\n",
       "      <td>0</td>\n",
       "    </tr>\n",
       "    <tr>\n",
       "      <th>3</th>\n",
       "      <td>3</td>\n",
       "      <td>0</td>\n",
       "      <td>1</td>\n",
       "    </tr>\n",
       "    <tr>\n",
       "      <th>4</th>\n",
       "      <td>4</td>\n",
       "      <td>0</td>\n",
       "      <td>0</td>\n",
       "    </tr>\n",
       "  </tbody>\n",
       "</table>\n",
       "</div>"
      ],
      "text/plain": [
       "   respondent_id  h1n1_vaccine  seasonal_vaccine\n",
       "0              0             0                 0\n",
       "1              1             0                 1\n",
       "2              2             0                 0\n",
       "3              3             0                 1\n",
       "4              4             0                 0"
      ]
     },
     "execution_count": 3,
     "metadata": {},
     "output_type": "execute_result"
    }
   ],
   "source": [
    "#loading the  csv datasets into DataFrames\n",
    "training_labels_df = pd.read_csv(\"training_set_labels.csv\")\n",
    "#Displaying the first few rows\n",
    "training_labels_df.head()"
   ]
  },
  {
   "cell_type": "markdown",
   "id": "03beb848-bd38-468a-8ac7-c5629c36116c",
   "metadata": {},
   "source": [
    "### Detecting and Handling Missing Values"
   ]
  },
  {
   "cell_type": "markdown",
   "id": "715edf9d-74ff-4540-9d13-31fddde53c6c",
   "metadata": {},
   "source": [
    "First check if the datasets contain missing values"
   ]
  },
  {
   "cell_type": "code",
   "execution_count": 4,
   "id": "65fb3598-7287-4c92-a86e-0a17ba19aa46",
   "metadata": {},
   "outputs": [
    {
     "name": "stdout",
     "output_type": "stream",
     "text": [
      "respondent_id                      0\n",
      "h1n1_concern                      92\n",
      "h1n1_knowledge                   116\n",
      "behavioral_antiviral_meds         71\n",
      "behavioral_avoidance             208\n",
      "behavioral_face_mask              19\n",
      "behavioral_wash_hands             42\n",
      "behavioral_large_gatherings       87\n",
      "behavioral_outside_home           82\n",
      "behavioral_touch_face            128\n",
      "doctor_recc_h1n1                2160\n",
      "doctor_recc_seasonal            2160\n",
      "chronic_med_condition            971\n",
      "child_under_6_months             820\n",
      "health_worker                    804\n",
      "health_insurance               12274\n",
      "opinion_h1n1_vacc_effective      391\n",
      "opinion_h1n1_risk                388\n",
      "opinion_h1n1_sick_from_vacc      395\n",
      "opinion_seas_vacc_effective      462\n",
      "opinion_seas_risk                514\n",
      "opinion_seas_sick_from_vacc      537\n",
      "age_group                          0\n",
      "education                       1407\n",
      "race                               0\n",
      "sex                                0\n",
      "income_poverty                  4423\n",
      "marital_status                  1408\n",
      "rent_or_own                     2042\n",
      "employment_status               1463\n",
      "hhs_geo_region                     0\n",
      "census_msa                         0\n",
      "household_adults                 249\n",
      "household_children               249\n",
      "employment_industry            13330\n",
      "employment_occupation          13470\n",
      "dtype: int64\n"
     ]
    },
    {
     "data": {
      "text/plain": [
       "(26707, 36)"
      ]
     },
     "execution_count": 4,
     "metadata": {},
     "output_type": "execute_result"
    }
   ],
   "source": [
    "#checking for missing values in the training_features_df\n",
    "missing_values = training_features_df.isnull().sum()\n",
    "print(missing_values)\n",
    "#check the shape of the dataframe\n",
    "training_features_df.shape"
   ]
  },
  {
   "cell_type": "markdown",
   "id": "1a0828ac-4209-466b-a98c-81f8acd6fb17",
   "metadata": {},
   "source": [
    "From the findings above we can see that some columns have relatively small numbers of missing values, such as h1n1_concern (92 missing) and behavioral_face_mask (19 missing).\n",
    "\n",
    "However, certain columns have a very large number of missing values, like doctor_recc_h1n1, doctor_recc_seasonal, health_insurance, and others related to employment (employment_industry, employment_occupation), which have thousands of missing entries.\n",
    "\n",
    "The dataset has 26,707 rows and 36 columns"
   ]
  },
  {
   "cell_type": "markdown",
   "id": "3efc9ccb-47bb-401b-8e03-e400946152bc",
   "metadata": {},
   "source": [
    "Next get a concise summary of the DataFrame"
   ]
  },
  {
   "cell_type": "code",
   "execution_count": 5,
   "id": "29a7b0f5-12a3-4799-aca7-57d70cc8318e",
   "metadata": {},
   "outputs": [
    {
     "name": "stdout",
     "output_type": "stream",
     "text": [
      "<class 'pandas.core.frame.DataFrame'>\n",
      "RangeIndex: 26707 entries, 0 to 26706\n",
      "Data columns (total 36 columns):\n",
      " #   Column                       Non-Null Count  Dtype  \n",
      "---  ------                       --------------  -----  \n",
      " 0   respondent_id                26707 non-null  int64  \n",
      " 1   h1n1_concern                 26615 non-null  float64\n",
      " 2   h1n1_knowledge               26591 non-null  float64\n",
      " 3   behavioral_antiviral_meds    26636 non-null  float64\n",
      " 4   behavioral_avoidance         26499 non-null  float64\n",
      " 5   behavioral_face_mask         26688 non-null  float64\n",
      " 6   behavioral_wash_hands        26665 non-null  float64\n",
      " 7   behavioral_large_gatherings  26620 non-null  float64\n",
      " 8   behavioral_outside_home      26625 non-null  float64\n",
      " 9   behavioral_touch_face        26579 non-null  float64\n",
      " 10  doctor_recc_h1n1             24547 non-null  float64\n",
      " 11  doctor_recc_seasonal         24547 non-null  float64\n",
      " 12  chronic_med_condition        25736 non-null  float64\n",
      " 13  child_under_6_months         25887 non-null  float64\n",
      " 14  health_worker                25903 non-null  float64\n",
      " 15  health_insurance             14433 non-null  float64\n",
      " 16  opinion_h1n1_vacc_effective  26316 non-null  float64\n",
      " 17  opinion_h1n1_risk            26319 non-null  float64\n",
      " 18  opinion_h1n1_sick_from_vacc  26312 non-null  float64\n",
      " 19  opinion_seas_vacc_effective  26245 non-null  float64\n",
      " 20  opinion_seas_risk            26193 non-null  float64\n",
      " 21  opinion_seas_sick_from_vacc  26170 non-null  float64\n",
      " 22  age_group                    26707 non-null  object \n",
      " 23  education                    25300 non-null  object \n",
      " 24  race                         26707 non-null  object \n",
      " 25  sex                          26707 non-null  object \n",
      " 26  income_poverty               22284 non-null  object \n",
      " 27  marital_status               25299 non-null  object \n",
      " 28  rent_or_own                  24665 non-null  object \n",
      " 29  employment_status            25244 non-null  object \n",
      " 30  hhs_geo_region               26707 non-null  object \n",
      " 31  census_msa                   26707 non-null  object \n",
      " 32  household_adults             26458 non-null  float64\n",
      " 33  household_children           26458 non-null  float64\n",
      " 34  employment_industry          13377 non-null  object \n",
      " 35  employment_occupation        13237 non-null  object \n",
      "dtypes: float64(23), int64(1), object(12)\n",
      "memory usage: 7.3+ MB\n"
     ]
    }
   ],
   "source": [
    "# Display summary of the DataFrame\n",
    "training_features_df.info()"
   ]
  },
  {
   "cell_type": "markdown",
   "id": "156bf3d8-6ed0-4196-b939-0b9f945554b0",
   "metadata": {},
   "source": [
    "***Consider Dropping Rows or Columns***\n",
    "\n",
    "For columns have an excessive amount of missing data such as employment_occupation or employment_industry drop them entirely"
   ]
  },
  {
   "cell_type": "code",
   "execution_count": 6,
   "id": "34fe554a-f648-43a6-86c6-26978a8c11e6",
   "metadata": {},
   "outputs": [],
   "source": [
    "# Drop columns with too many missing values (if needed)\n",
    "training_features_df.drop(columns=['employment_industry', 'employment_occupation'], inplace=True)\n"
   ]
  },
  {
   "cell_type": "markdown",
   "id": "3e0a935f-9d6b-4837-9206-0ec52d598971",
   "metadata": {},
   "source": [
    "***Impute Missing Numerical Data***\n",
    "\n",
    "Imputing missing numerical values with either mean or median \n",
    "\n",
    "Use SimpleImputer from sklearn to fill missing numerical values."
   ]
  },
  {
   "cell_type": "code",
   "execution_count": 7,
   "id": "aca1dbb1-a490-4b1d-a172-6c962e29b9ce",
   "metadata": {},
   "outputs": [],
   "source": [
    "from sklearn.impute import SimpleImputer\n",
    "\n",
    "# Impute missing values for numerical columns with the median\n",
    "numerical_cols = ['h1n1_concern', 'h1n1_knowledge', 'behavioral_antiviral_meds', \n",
    "                  'behavioral_avoidance', 'behavioral_face_mask', 'behavioral_wash_hands', \n",
    "                  'behavioral_large_gatherings', 'behavioral_outside_home', 'behavioral_touch_face', \n",
    "                  'doctor_recc_h1n1', 'doctor_recc_seasonal', 'chronic_med_condition', \n",
    "                  'child_under_6_months', 'health_worker', 'health_insurance', \n",
    "                  'opinion_h1n1_vacc_effective', 'opinion_h1n1_risk', 'opinion_h1n1_sick_from_vacc', \n",
    "                  'opinion_seas_vacc_effective', 'opinion_seas_risk', 'opinion_seas_sick_from_vacc', \n",
    "                  'household_adults', 'household_children']\n",
    "\n",
    "imputer = SimpleImputer(strategy='median')  # Use 'mean' or 'median' depending on the data\n",
    "training_features_df[numerical_cols] = imputer.fit_transform(training_features_df[numerical_cols])\n"
   ]
  },
  {
   "cell_type": "markdown",
   "id": "2d9c1519-bc21-449f-a6bd-b5977bee5148",
   "metadata": {},
   "source": [
    "***Impute Missing Categorical Data***\n",
    "\n",
    "You can impute missing values with the most frequent category (mode) or use a placeholder value like 'Unknown'\n",
    "\n"
   ]
  },
  {
   "cell_type": "code",
   "execution_count": 8,
   "id": "a8bd0d2f-36b3-4421-baf2-b61d068ec4cd",
   "metadata": {},
   "outputs": [],
   "source": [
    "# Impute missing values for categorical columns with the mode (most frequent value)\n",
    "categorical_cols = ['education', 'income_poverty', 'marital_status', 'rent_or_own', \n",
    "                    'employment_status']\n",
    "\n",
    "imputer = SimpleImputer(strategy='most_frequent')  # Or use 'constant' with value='Unknown'\n",
    "training_features_df[categorical_cols] = imputer.fit_transform(training_features_df[categorical_cols])\n"
   ]
  },
  {
   "cell_type": "code",
   "execution_count": 9,
   "id": "c78025b6-65cb-45b6-b808-623463532b7d",
   "metadata": {},
   "outputs": [
    {
     "name": "stdout",
     "output_type": "stream",
     "text": [
      "0\n"
     ]
    }
   ],
   "source": [
    "# Verify there are no remaining missing values\n",
    "print(training_features_df.isnull().sum().sum())"
   ]
  },
  {
   "cell_type": "code",
   "execution_count": 10,
   "id": "1cfa2e62-cc41-41c4-a26d-5bdef72bcaa4",
   "metadata": {},
   "outputs": [
    {
     "name": "stdout",
     "output_type": "stream",
     "text": [
      "respondent_id                      0\n",
      "h1n1_concern                      85\n",
      "h1n1_knowledge                   122\n",
      "behavioral_antiviral_meds         79\n",
      "behavioral_avoidance             213\n",
      "behavioral_face_mask              19\n",
      "behavioral_wash_hands             40\n",
      "behavioral_large_gatherings       72\n",
      "behavioral_outside_home           82\n",
      "behavioral_touch_face            128\n",
      "doctor_recc_h1n1                2160\n",
      "doctor_recc_seasonal            2160\n",
      "chronic_med_condition            932\n",
      "child_under_6_months             813\n",
      "health_worker                    789\n",
      "health_insurance               12228\n",
      "opinion_h1n1_vacc_effective      398\n",
      "opinion_h1n1_risk                380\n",
      "opinion_h1n1_sick_from_vacc      375\n",
      "opinion_seas_vacc_effective      452\n",
      "opinion_seas_risk                499\n",
      "opinion_seas_sick_from_vacc      521\n",
      "age_group                          0\n",
      "education                       1407\n",
      "race                               0\n",
      "sex                                0\n",
      "income_poverty                  4497\n",
      "marital_status                  1442\n",
      "rent_or_own                     2036\n",
      "employment_status               1471\n",
      "hhs_geo_region                     0\n",
      "census_msa                         0\n",
      "household_adults                 225\n",
      "household_children               225\n",
      "employment_industry            13275\n",
      "employment_occupation          13426\n",
      "dtype: int64\n"
     ]
    },
    {
     "data": {
      "text/plain": [
       "(26708, 36)"
      ]
     },
     "execution_count": 10,
     "metadata": {},
     "output_type": "execute_result"
    }
   ],
   "source": [
    "#checking for missing values in the test_features_df\n",
    "missing_values2 = test_features_df.isnull().sum()\n",
    "print(missing_values2)\n",
    "#check the shape of the dataframe\n",
    "test_features_df.shape"
   ]
  },
  {
   "cell_type": "markdown",
   "id": "0bd189dd-566b-43be-bc96-ca33982ee18a",
   "metadata": {},
   "source": [
    "From the findings above we can see that some columns have relatively small numbers of missing values, such as h1n1_concern (85 missing) and behavioral_face_mask (19 missing).\r\n",
    "\r\n",
    "However, certain columns have a very large number of missing values, like doctor_recc_h1n1, doctor_recc_seasonal, health_insurance, and others related to employment (employment_industry, employment_occupation), which have thousands of missing entries."
   ]
  },
  {
   "cell_type": "markdown",
   "id": "636d180b-9e9a-4a31-b6d4-53ee368cbf7b",
   "metadata": {},
   "source": [
    "***Consider Dropping Rows or Columns***\r\n",
    "\r\n",
    "For columns have an excessive amount of missing data such as employment_occupation or employment_industry drop them entire\r\n",
    "🎯\r\n",
    "\r\n"
   ]
  },
  {
   "cell_type": "code",
   "execution_count": 11,
   "id": "1ca06970-d225-4543-be95-350a124132e3",
   "metadata": {},
   "outputs": [],
   "source": [
    "# Drop columns with too many missing values (if needed)\n",
    "test_features_df.drop(columns=['employment_industry', 'employment_occupation'], inplace=True)\n"
   ]
  },
  {
   "cell_type": "markdown",
   "id": "582d378b-bbeb-46b0-8927-aa4e53843845",
   "metadata": {},
   "source": [
    "***Numerical Columns:*** Use strategies such as the mean, median, or mode for imputation depending on the distribution of the data.\n",
    "\n",
    "***Categorical Columns:*** Replace missing values with the mode or a placeholder value like \"Unknown\"."
   ]
  },
  {
   "cell_type": "code",
   "execution_count": 12,
   "id": "38396999-6f3b-4457-b913-898b1a4f2400",
   "metadata": {},
   "outputs": [],
   "source": [
    "# Split columns into numerical and categorical\n",
    "numerical_columns = test_features_df.select_dtypes(include=['float64', 'int64']).columns\n",
    "categorical_columns = test_features_df.select_dtypes(include=['object']).columns\n",
    "\n",
    "# Create imputers\n",
    "numerical_imputer = SimpleImputer(strategy='median')\n",
    "categorical_imputer = SimpleImputer(strategy='most_frequent')\n",
    "\n",
    "# Apply imputers to respective columns\n",
    "test_features_df[numerical_columns] = numerical_imputer.fit_transform(test_features_df[numerical_columns])\n",
    "test_features_df[categorical_columns] = categorical_imputer.fit_transform(test_features_df[categorical_columns])"
   ]
  },
  {
   "cell_type": "code",
   "execution_count": 13,
   "id": "d6df4763-3669-4136-b5e7-76d280f481bb",
   "metadata": {},
   "outputs": [
    {
     "name": "stdout",
     "output_type": "stream",
     "text": [
      "0\n"
     ]
    }
   ],
   "source": [
    "# Verify no missing values remain\n",
    "print(test_features_df.isnull().sum().sum())"
   ]
  },
  {
   "cell_type": "markdown",
   "id": "299207d9-35b3-4766-9e11-465edab49696",
   "metadata": {},
   "source": [
    "Finally let's also check for missing values in the training_labels_df"
   ]
  },
  {
   "cell_type": "code",
   "execution_count": 14,
   "id": "6e5410c4-6a70-4195-8444-9d3be9af2264",
   "metadata": {},
   "outputs": [
    {
     "name": "stdout",
     "output_type": "stream",
     "text": [
      "respondent_id       0\n",
      "h1n1_vaccine        0\n",
      "seasonal_vaccine    0\n",
      "dtype: int64\n"
     ]
    },
    {
     "data": {
      "text/plain": [
       "(26707, 3)"
      ]
     },
     "execution_count": 14,
     "metadata": {},
     "output_type": "execute_result"
    }
   ],
   "source": [
    "#checking for missing values in the training_labels_df\n",
    "missing_values2 = training_labels_df.isnull().sum()\n",
    "print(missing_values2)\n",
    "#check the shape of the dataframe\n",
    "training_labels_df.shape"
   ]
  },
  {
   "cell_type": "markdown",
   "id": "d6301c78-6d9d-46c5-ad93-d317ac178d04",
   "metadata": {},
   "source": [
    "From the findings above we can see that the training_labels_df doesn't contain any missing values"
   ]
  },
  {
   "cell_type": "markdown",
   "id": "d9f71b48-2f76-4373-836b-09455ab6971b",
   "metadata": {},
   "source": [
    "### Checking for Duplicates: Ensuring Data Integrity\n",
    "\n",
    "Duplicate records in a dataset can skew analysis and negatively impact model performance. By identifying and removing duplicates, we ensure the dataset's integrity and prevent redundancy from influencing the results. This step helps maintain the quality and reliability of the data used for analysis and modeling.\n",
    "\n",
    "The next step lets check for duplicates in the datasets"
   ]
  },
  {
   "cell_type": "code",
   "execution_count": 15,
   "id": "970b7f16-d402-4710-80da-f1e69c75e681",
   "metadata": {},
   "outputs": [
    {
     "name": "stdout",
     "output_type": "stream",
     "text": [
      "Number of duplicate rows: 0\n",
      "Empty DataFrame\n",
      "Columns: [respondent_id, h1n1_concern, h1n1_knowledge, behavioral_antiviral_meds, behavioral_avoidance, behavioral_face_mask, behavioral_wash_hands, behavioral_large_gatherings, behavioral_outside_home, behavioral_touch_face, doctor_recc_h1n1, doctor_recc_seasonal, chronic_med_condition, child_under_6_months, health_worker, health_insurance, opinion_h1n1_vacc_effective, opinion_h1n1_risk, opinion_h1n1_sick_from_vacc, opinion_seas_vacc_effective, opinion_seas_risk, opinion_seas_sick_from_vacc, age_group, education, race, sex, income_poverty, marital_status, rent_or_own, employment_status, hhs_geo_region, census_msa, household_adults, household_children]\n",
      "Index: []\n",
      "\n",
      "[0 rows x 34 columns]\n"
     ]
    }
   ],
   "source": [
    "# Check for duplicate rows\n",
    "duplicate_rows = training_features_df[training_features_df.duplicated()]\n",
    "\n",
    "# Display duplicate rows\n",
    "print(f\"Number of duplicate rows: {len(duplicate_rows)}\")\n",
    "print(duplicate_rows)\n"
   ]
  },
  {
   "cell_type": "code",
   "execution_count": 16,
   "id": "15149ea3-b5ad-4254-a857-ae180fb695b2",
   "metadata": {},
   "outputs": [
    {
     "name": "stdout",
     "output_type": "stream",
     "text": [
      "Number of duplicate rows: 0\n",
      "Empty DataFrame\n",
      "Columns: [respondent_id, h1n1_concern, h1n1_knowledge, behavioral_antiviral_meds, behavioral_avoidance, behavioral_face_mask, behavioral_wash_hands, behavioral_large_gatherings, behavioral_outside_home, behavioral_touch_face, doctor_recc_h1n1, doctor_recc_seasonal, chronic_med_condition, child_under_6_months, health_worker, health_insurance, opinion_h1n1_vacc_effective, opinion_h1n1_risk, opinion_h1n1_sick_from_vacc, opinion_seas_vacc_effective, opinion_seas_risk, opinion_seas_sick_from_vacc, age_group, education, race, sex, income_poverty, marital_status, rent_or_own, employment_status, hhs_geo_region, census_msa, household_adults, household_children]\n",
      "Index: []\n",
      "\n",
      "[0 rows x 34 columns]\n"
     ]
    }
   ],
   "source": [
    " #Check for duplicate rows\n",
    "duplicate_rows = test_features_df[test_features_df.duplicated()]\n",
    "\n",
    "# Display duplicate rows\n",
    "print(f\"Number of duplicate rows: {len(duplicate_rows)}\")\n",
    "print(duplicate_rows)"
   ]
  },
  {
   "cell_type": "code",
   "execution_count": 17,
   "id": "0fd514b6-940e-48ef-9a22-33f607f5cb87",
   "metadata": {},
   "outputs": [
    {
     "name": "stdout",
     "output_type": "stream",
     "text": [
      "Number of duplicate rows: 0\n",
      "Empty DataFrame\n",
      "Columns: [respondent_id, h1n1_vaccine, seasonal_vaccine]\n",
      "Index: []\n"
     ]
    }
   ],
   "source": [
    "duplicate_rows = training_labels_df[training_labels_df.duplicated()]\n",
    "\n",
    "# Display duplicate rows\n",
    "print(f\"Number of duplicate rows: {len(duplicate_rows)}\")\n",
    "print(duplicate_rows)"
   ]
  },
  {
   "cell_type": "code",
   "execution_count": 18,
   "id": "cc90274b-c975-4984-8844-53a87a7a43f8",
   "metadata": {},
   "outputs": [
    {
     "name": "stdout",
     "output_type": "stream",
     "text": [
      "<class 'pandas.core.frame.DataFrame'>\n",
      "RangeIndex: 53415 entries, 0 to 53414\n",
      "Data columns (total 35 columns):\n",
      " #   Column                       Non-Null Count  Dtype  \n",
      "---  ------                       --------------  -----  \n",
      " 0   respondent_id                53415 non-null  float64\n",
      " 1   h1n1_concern                 53415 non-null  float64\n",
      " 2   h1n1_knowledge               53415 non-null  float64\n",
      " 3   behavioral_antiviral_meds    53415 non-null  float64\n",
      " 4   behavioral_avoidance         53415 non-null  float64\n",
      " 5   behavioral_face_mask         53415 non-null  float64\n",
      " 6   behavioral_wash_hands        53415 non-null  float64\n",
      " 7   behavioral_large_gatherings  53415 non-null  float64\n",
      " 8   behavioral_outside_home      53415 non-null  float64\n",
      " 9   behavioral_touch_face        53415 non-null  float64\n",
      " 10  doctor_recc_h1n1             53415 non-null  float64\n",
      " 11  doctor_recc_seasonal         53415 non-null  float64\n",
      " 12  chronic_med_condition        53415 non-null  float64\n",
      " 13  child_under_6_months         53415 non-null  float64\n",
      " 14  health_worker                53415 non-null  float64\n",
      " 15  health_insurance             53415 non-null  float64\n",
      " 16  opinion_h1n1_vacc_effective  53415 non-null  float64\n",
      " 17  opinion_h1n1_risk            53415 non-null  float64\n",
      " 18  opinion_h1n1_sick_from_vacc  53415 non-null  float64\n",
      " 19  opinion_seas_vacc_effective  53415 non-null  float64\n",
      " 20  opinion_seas_risk            53415 non-null  float64\n",
      " 21  opinion_seas_sick_from_vacc  53415 non-null  float64\n",
      " 22  age_group                    53415 non-null  object \n",
      " 23  education                    53415 non-null  object \n",
      " 24  race                         53415 non-null  object \n",
      " 25  sex                          53415 non-null  object \n",
      " 26  income_poverty               53415 non-null  object \n",
      " 27  marital_status               53415 non-null  object \n",
      " 28  rent_or_own                  53415 non-null  object \n",
      " 29  employment_status            53415 non-null  object \n",
      " 30  hhs_geo_region               53415 non-null  object \n",
      " 31  census_msa                   53415 non-null  object \n",
      " 32  household_adults             53415 non-null  float64\n",
      " 33  household_children           53415 non-null  float64\n",
      " 34  dataset                      53415 non-null  object \n",
      "dtypes: float64(24), object(11)\n",
      "memory usage: 14.3+ MB\n",
      "None\n",
      "   respondent_id  h1n1_concern  h1n1_knowledge  behavioral_antiviral_meds  \\\n",
      "0            0.0           1.0             0.0                        0.0   \n",
      "1            1.0           3.0             2.0                        0.0   \n",
      "2            2.0           1.0             1.0                        0.0   \n",
      "3            3.0           1.0             1.0                        0.0   \n",
      "4            4.0           2.0             1.0                        0.0   \n",
      "\n",
      "   behavioral_avoidance  behavioral_face_mask  behavioral_wash_hands  \\\n",
      "0                   0.0                   0.0                    0.0   \n",
      "1                   1.0                   0.0                    1.0   \n",
      "2                   1.0                   0.0                    0.0   \n",
      "3                   1.0                   0.0                    1.0   \n",
      "4                   1.0                   0.0                    1.0   \n",
      "\n",
      "   behavioral_large_gatherings  behavioral_outside_home  \\\n",
      "0                          0.0                      1.0   \n",
      "1                          0.0                      1.0   \n",
      "2                          0.0                      0.0   \n",
      "3                          1.0                      0.0   \n",
      "4                          1.0                      0.0   \n",
      "\n",
      "   behavioral_touch_face  ...     sex             income_poverty  \\\n",
      "0                    1.0  ...  Female              Below Poverty   \n",
      "1                    1.0  ...    Male              Below Poverty   \n",
      "2                    0.0  ...    Male  <= $75,000, Above Poverty   \n",
      "3                    0.0  ...  Female              Below Poverty   \n",
      "4                    1.0  ...  Female  <= $75,000, Above Poverty   \n",
      "\n",
      "   marital_status  rent_or_own   employment_status  hhs_geo_region  \\\n",
      "0     Not Married          Own  Not in Labor Force        oxchjgsf   \n",
      "1     Not Married         Rent            Employed        bhuqouqj   \n",
      "2     Not Married          Own            Employed        qufhixun   \n",
      "3     Not Married         Rent  Not in Labor Force        lrircsnp   \n",
      "4         Married          Own            Employed        qufhixun   \n",
      "\n",
      "                 census_msa  household_adults  household_children   dataset  \n",
      "0                   Non-MSA               0.0                 0.0  training  \n",
      "1  MSA, Not Principle  City               0.0                 0.0  training  \n",
      "2  MSA, Not Principle  City               2.0                 0.0  training  \n",
      "3       MSA, Principle City               0.0                 0.0  training  \n",
      "4  MSA, Not Principle  City               1.0                 0.0  training  \n",
      "\n",
      "[5 rows x 35 columns]\n"
     ]
    }
   ],
   "source": [
    "import pandas as pd\n",
    "\n",
    "# Add a column to identify the dataset\n",
    "training_features_df['dataset'] = 'training'\n",
    "test_features_df['dataset'] = 'test'\n",
    "\n",
    "# Merge the datasets\n",
    "merged_df = pd.concat([training_features_df, test_features_df], ignore_index=True)\n",
    "\n",
    "# Display basic information about the merged DataFrame\n",
    "print(merged_df.info())\n",
    "\n",
    "# Preview the merged DataFrame\n",
    "print(merged_df.head())\n"
   ]
  },
  {
   "cell_type": "markdown",
   "id": "f032182c-a0b1-41f5-be32-cfcc4fd7943c",
   "metadata": {},
   "source": [
    "After checking for duplicates, we found none in the dataset. This indicates that the data is clean and free from redundancy, ensuring reliable and unbiased results in subsequent analysis and modeling steps."
   ]
  },
  {
   "cell_type": "markdown",
   "id": "9bcefa42-7e72-4579-ae33-beff0eb80a73",
   "metadata": {},
   "source": [
    "## Data Visualizations"
   ]
  },
  {
   "cell_type": "markdown",
   "id": "5bb0456f-b79e-4060-8ebf-b9d599e81819",
   "metadata": {},
   "source": [
    "### Distribution of Target Variables\n",
    "\n",
    "Purpose:Understand the balance of target variables (h1n1_vaccine and seasonal_vaccine)."
   ]
  },
  {
   "cell_type": "code",
   "execution_count": 19,
   "id": "c5e9f6e1-fde1-43c4-af6b-7f77cd361f6f",
   "metadata": {},
   "outputs": [
    {
     "data": {
      "image/png": "[encoded data removed]",
      "text/plain": [
       "<Figure size 1200x500 with 2 Axes>"
      ]
     },
     "metadata": {},
     "output_type": "display_data"
    }
   ],
   "source": [
    "import seaborn as sns\n",
    "import matplotlib.pyplot as plt\n",
    "\n",
    "# Plot distribution of target variables\n",
    "fig, axes = plt.subplots(1, 2, figsize=(12, 5))\n",
    "\n",
    "# Plot for H1N1 vaccine\n",
    "sns.countplot(x='h1n1_vaccine', data=training_labels_df, ax=axes[0], color='steelblue')\n",
    "axes[0].set_title('Distribution of H1N1 Vaccine Target')\n",
    "axes[0].set_xlabel('H1N1 Vaccine')\n",
    "axes[0].set_ylabel('Count')\n",
    "\n",
    "# Plot for Seasonal vaccine\n",
    "sns.countplot(x='seasonal_vaccine', data=training_labels_df, ax=axes[1], color='lightgreen')\n",
    "axes[1].set_title('Distribution of Seasonal Vaccine Target')\n",
    "axes[1].set_xlabel('Seasonal Vaccine')\n",
    "axes[1].set_ylabel('Count')\n",
    "\n",
    "plt.tight_layout()\n",
    "plt.show()"
   ]
  },
  {
   "cell_type": "markdown",
   "id": "9205d8c2-379b-4ad0-9248-0f58a6bef188",
   "metadata": {},
   "source": [
    "***H1N1 Vaccine Distribution:***\n",
    "\n",
    "The majority of respondents (label 0) did not receive the H1N1 vaccine.\n",
    "A smaller proportion of respondents (label 1) received the vaccine.\n",
    "This indicates an imbalance in the target variable, as the number of people who did not take the H1N1 vaccine is significantly higher than those who did.\n",
    "\n",
    "***Seasonal Vaccine Distribution:***\n",
    "\n",
    "The distribution between those who did not receive the seasonal vaccine (label 0) and those who did (label 1) is more balanced compared to the H1N1 vaccine distribution.\n",
    "There is still a slightly higher number of respondents who did not receive the seasonal vaccine, but the difference is less pronounced"
   ]
  },
  {
   "cell_type": "markdown",
   "id": "fc334370-51d3-4afb-a2b5-0d8c9c362d6c",
   "metadata": {},
   "source": [
    "###  Vaccine Uptake by Income Level\n",
    "\n",
    "Purpose: Understand how income_poverty influences vaccine uptake."
   ]
  },
  {
   "cell_type": "code",
   "execution_count": 20,
   "id": "751aa3ca-fb4d-4c69-883b-867121be953b",
   "metadata": {},
   "outputs": [
    {
     "data": {
      "image/png": "[encoded data removed]",
      "text/plain": [
       "<Figure size 640x480 with 1 Axes>"
      ]
     },
     "metadata": {},
     "output_type": "display_data"
    }
   ],
   "source": [
    "sns.countplot(data=merged_df, x='income_poverty', hue=training_labels_df['h1n1_vaccine'], palette='Set2')\n",
    "plt.title('H1N1 Vaccine Uptake by Income Level')\n",
    "plt.xlabel('Income Level')\n",
    "plt.ylabel('Count')\n",
    "plt.legend(title='H1N1 Vaccine', loc='upper right')\n",
    "plt.xticks(rotation=45)\n",
    "plt.show()\n"
   ]
  },
  {
   "cell_type": "markdown",
   "id": "3615ce7f-00b3-42c0-acba-73718102d2ff",
   "metadata": {},
   "source": [
    "<= $75,000, Above Poverty:This income category has the highest overall count of individuals.A significant majority in this group did not take the H1N1 vaccine (0.0).The number of individuals who took the vaccine (1.0) is comparatively lower.\n",
    "\n",
    "Below Poverty:This group has the lowest total count of individuals.The uptake of the vaccine (1.0) is low but more proportionate to those who did not take it (0.0) compared to other income groups.\n",
    "\n",
    "below > $75,000:This group has a smaller total count than the middle-income category.Similar to the other groups, a larger proportion of individuals did not take the vaccine (0.0), though the uptake (1.0) is slightly higher than in the lowest income group\n",
    "\n",
    "The middle-income group (<= $75,000, Above Poverty) is the largest and shows the lowest vaccine uptake proportionally. This could indicate a need for targeted interventions in this demographic.Both the lowest and highest income groups show relatively lower H1N1 vaccine uptake, but the absolute count in the lowest income group is much smaller, suggesting additional barriers .\n"
   ]
  },
  {
   "cell_type": "markdown",
   "id": "67f5de62-8fa9-434c-9439-28070dafeb7f",
   "metadata": {},
   "source": [
    "###  Vaccine Uptake by Education Level\n",
    "Purpose: Assess the impact of education on vaccine uptake.\n"
   ]
  },
  {
   "cell_type": "code",
   "execution_count": 21,
   "id": "c1c397ee-0c7e-4bf3-9593-eaba093bf4de",
   "metadata": {},
   "outputs": [
    {
     "data": {
      "image/png": "[encoded data removed]",
      "text/plain": [
       "<Figure size 640x480 with 1 Axes>"
      ]
     },
     "metadata": {},
     "output_type": "display_data"
    }
   ],
   "source": [
    "sns.countplot(data=merged_df, x='education', hue=training_labels_df['seasonal_vaccine'], palette='pastel')\n",
    "plt.title('Seasonal Vaccine Uptake by Education Level')\n",
    "plt.xlabel('Education Level')\n",
    "plt.ylabel('Count')\n",
    "plt.legend(title='Seasonal Vaccine', loc='upper right')\n",
    "plt.xticks(rotation=45)\n",
    "plt.show()\n"
   ]
  },
  {
   "cell_type": "markdown",
   "id": "c0fd21a0-fa75-4564-847b-23dc9f51db72",
   "metadata": {},
   "source": [
    "College Graduates:This group has the highest count of individuals overall.A significant proportion of college graduates took the seasonal vaccine (1.0).\n",
    "\n",
    "Education Levels Below College:As education levels decrease (e.g., <12 Years, 12 Years), the total count of individuals in these groups declines.The proportion of individuals taking the vaccine (1.0) is lower compared to those who did not (0.0).\n",
    "\n",
    "Some College:This group has a balanced representation but still shows a higher count of individuals not taking the vaccine.\n",
    "\n",
    "Higher education levels, particularly college graduates, are positively associated with seasonal vaccine uptake.\n",
    "Individuals with lower education levels may have barriers to vaccine uptake, such as access, awareness, or beliefs. This could be an area for targeted public health campaigns.\n"
   ]
  },
  {
   "cell_type": "markdown",
   "id": "97a257c6-e619-4ee1-bd6d-d5a06ef9ea07",
   "metadata": {},
   "source": [
    "### Geographic Region Analysis\n",
    "\n",
    "Purpose: Visualize how vaccine uptake varies across hhs_geo_region."
   ]
  },
  {
   "cell_type": "code",
   "execution_count": 22,
   "id": "d8f0d61c-b2cc-4220-8f8f-9cbf91fac66d",
   "metadata": {},
   "outputs": [
    {
     "data": {
      "image/png": "[encoded data removed]",
      "text/plain": [
       "<Figure size 640x480 with 1 Axes>"
      ]
     },
     "metadata": {},
     "output_type": "display_data"
    }
   ],
   "source": [
    "sns.countplot(data=merged_df, x='hhs_geo_region', hue=training_labels_df['seasonal_vaccine'], palette='Spectral')\n",
    "plt.title('Seasonal Vaccine Uptake by Geographic Region')\n",
    "plt.xlabel('Geographic Region')\n",
    "plt.ylabel('Count')\n",
    "plt.legend(title='Seasonal Vaccine', loc='upper right')\n",
    "plt.xticks(rotation=90)\n",
    "plt.show()\n"
   ]
  },
  {
   "cell_type": "markdown",
   "id": "724bff64-c9b6-4f6f-89f5-3d19f5a8feba",
   "metadata": {},
   "source": [
    "In most regions, the count of individuals who did not take the vaccine (orange bars) is higher than those who did (green bars).\n",
    "\n",
    "The region \"lzpxvyit\" stands out with the highest number of individuals who did not take the vaccine (0.0) and also the highest uptake of the vaccine (1.0), indicating a large population in this region.\n",
    "\n",
    "Regions like \"fpwskwrf\" and \"mllyzmhmf\" show lower vaccine uptake compared to other regions.\n",
    "\n",
    "The counts for non-uptake (0.0) and uptake (1.0) appear to be more balanced in some regions, such as \"bhugqouj\" and \"kbazzjca.\"\n",
    "\n",
    "Overall, the chart suggests significant variation in seasonal flu vaccine uptake across geographic regions, with non-uptake generally outpacing uptake"
   ]
  },
  {
   "cell_type": "markdown",
   "id": "5bd8df8c-53dd-4a9b-a6f6-283ed96c937f",
   "metadata": {},
   "source": [
    "### Age Group vs. Vaccination\n",
    "Purpose:Analyze how vaccination uptake differs by age_group."
   ]
  },
  {
   "cell_type": "code",
   "execution_count": 23,
   "id": "4d61178f-663a-41e6-a03e-b6645965d709",
   "metadata": {},
   "outputs": [
    {
     "data": {
      "image/png": "[encoded data removed]",
      "text/plain": [
       "<Figure size 640x480 with 1 Axes>"
      ]
     },
     "metadata": {},
     "output_type": "display_data"
    }
   ],
   "source": [
    "sns.countplot(data=merged_df, x='age_group', hue=training_labels_df['h1n1_vaccine'], palette='muted')\n",
    "plt.title('H1N1 Vaccine Uptake by Age Group')\n",
    "plt.xlabel('Age Group')\n",
    "plt.ylabel('Count')\n",
    "plt.legend(title='H1N1 Vaccine', loc='upper right')\n",
    "plt.xticks(rotation=45)\n",
    "plt.show()\n"
   ]
  },
  {
   "cell_type": "markdown",
   "id": "2cf21df5-0187-46d4-a1be-4174e88f499b",
   "metadata": {},
   "source": [
    "For all age groups, the count of individuals who did not take the vaccine (blue bars) is significantly higher than those who did (orange bars).\n",
    "\n",
    "The 65+ years age group has the highest number of individuals represented, both for vaccine uptake (1.0) and non-uptake (0.0).\n",
    "\n",
    "The youngest age group (18–34 years) shows the lowest uptake of the vaccine (orange bar) relative to the others.\n",
    "    \n",
    "This chart suggests that vaccine uptake was generally low across all age groups, with older populations (especially 65+ years) having the highest representation overall."
   ]
  },
  {
   "cell_type": "markdown",
   "id": "3165d855-af4b-4379-96a3-b36106465908",
   "metadata": {},
   "source": [
    "### Feature Encoding\n",
    "\n",
    "Convert categorical variables into a numeric format to make the data usable by machine learning algorithms. By applying techniques such as one-hot encoding or label encoding, we ensure that categorical variables are properly represented, enabling the model to process and learn from them effectively. "
   ]
  },
  {
   "cell_type": "code",
   "execution_count": 24,
   "id": "b17af9bb-568b-4bf3-b06e-e125bf1b25df",
   "metadata": {},
   "outputs": [
    {
     "name": "stdout",
     "output_type": "stream",
     "text": [
      "   h1n1_concern  h1n1_knowledge  behavioral_antiviral_meds  \\\n",
      "0           1.0             0.0                        0.0   \n",
      "1           3.0             2.0                        0.0   \n",
      "2           1.0             1.0                        0.0   \n",
      "3           1.0             1.0                        0.0   \n",
      "4           2.0             1.0                        0.0   \n",
      "\n",
      "   behavioral_avoidance  behavioral_face_mask  behavioral_wash_hands  \\\n",
      "0                   0.0                   0.0                    0.0   \n",
      "1                   1.0                   0.0                    1.0   \n",
      "2                   1.0                   0.0                    0.0   \n",
      "3                   1.0                   0.0                    1.0   \n",
      "4                   1.0                   0.0                    1.0   \n",
      "\n",
      "   behavioral_large_gatherings  behavioral_outside_home  \\\n",
      "0                          0.0                      1.0   \n",
      "1                          0.0                      1.0   \n",
      "2                          0.0                      0.0   \n",
      "3                          1.0                      0.0   \n",
      "4                          1.0                      0.0   \n",
      "\n",
      "   behavioral_touch_face  doctor_recc_h1n1  ...  hhs_geo_region_fpwskwrf  \\\n",
      "0                    1.0               0.0  ...                      0.0   \n",
      "1                    1.0               0.0  ...                      0.0   \n",
      "2                    0.0               0.0  ...                      0.0   \n",
      "3                    0.0               0.0  ...                      0.0   \n",
      "4                    1.0               0.0  ...                      0.0   \n",
      "\n",
      "   hhs_geo_region_kbazzjca  hhs_geo_region_lrircsnp  hhs_geo_region_lzgpxyit  \\\n",
      "0                      0.0                      0.0                      0.0   \n",
      "1                      0.0                      0.0                      0.0   \n",
      "2                      0.0                      0.0                      0.0   \n",
      "3                      0.0                      1.0                      0.0   \n",
      "4                      0.0                      0.0                      0.0   \n",
      "\n",
      "   hhs_geo_region_mlyzmhmf  hhs_geo_region_oxchjgsf  hhs_geo_region_qufhixun  \\\n",
      "0                      0.0                      1.0                      0.0   \n",
      "1                      0.0                      0.0                      0.0   \n",
      "2                      0.0                      0.0                      1.0   \n",
      "3                      0.0                      0.0                      0.0   \n",
      "4                      0.0                      0.0                      1.0   \n",
      "\n",
      "   census_msa_MSA, Not Principle  City  census_msa_MSA, Principle City  \\\n",
      "0                                  0.0                             0.0   \n",
      "1                                  1.0                             0.0   \n",
      "2                                  1.0                             0.0   \n",
      "3                                  0.0                             1.0   \n",
      "4                                  1.0                             0.0   \n",
      "\n",
      "   census_msa_Non-MSA  \n",
      "0                 1.0  \n",
      "1                 0.0  \n",
      "2                 0.0  \n",
      "3                 0.0  \n",
      "4                 0.0  \n",
      "\n",
      "[5 rows x 61 columns]\n"
     ]
    }
   ],
   "source": [
    "import pandas as pd\n",
    "from sklearn.preprocessing import OneHotEncoder\n",
    "\n",
    "# Separate categorical and numerical features\n",
    "categorical_features = ['age_group', 'education', 'race', 'sex', 'income_poverty', \n",
    "                        'marital_status', 'rent_or_own', 'employment_status', \n",
    "                        'hhs_geo_region', 'census_msa']\n",
    "\n",
    "numerical_features = [col for col in training_features_df.columns if training_features_df[col].dtype in ['int64', 'float64']]\n",
    "numerical_features.remove('respondent_id')  # Remove `respondent_id` as it's not a feature\n",
    "\n",
    "# One-hot encode the categorical features\n",
    "encoder = OneHotEncoder(handle_unknown='ignore', sparse_output=False)\n",
    "encoded_categorical = encoder.fit_transform(training_features_df[categorical_features])\n",
    "\n",
    "# Convert one-hot encoded data to DataFrame\n",
    "encoded_categorical_df = pd.DataFrame(encoded_categorical, columns=encoder.get_feature_names_out(categorical_features))\n",
    "\n",
    "# Combine numerical and one-hot encoded categorical data\n",
    "encoded_training_data = pd.concat([training_features_df[numerical_features].reset_index(drop=True), \n",
    "                                   encoded_categorical_df.reset_index(drop=True)], axis=1)\n",
    "\n",
    "print(encoded_training_data.head())\n"
   ]
  },
  {
   "cell_type": "code",
   "execution_count": 25,
   "id": "f62a39fe-2aac-41bb-af6d-087522c73173",
   "metadata": {},
   "outputs": [
    {
     "name": "stdout",
     "output_type": "stream",
     "text": [
      "   h1n1_concern  h1n1_knowledge  behavioral_antiviral_meds  \\\n",
      "0           2.0             2.0                        0.0   \n",
      "1           1.0             1.0                        0.0   \n",
      "2           2.0             2.0                        0.0   \n",
      "3           1.0             1.0                        0.0   \n",
      "4           3.0             1.0                        1.0   \n",
      "\n",
      "   behavioral_avoidance  behavioral_face_mask  behavioral_wash_hands  \\\n",
      "0                   1.0                   0.0                    1.0   \n",
      "1                   0.0                   0.0                    0.0   \n",
      "2                   0.0                   1.0                    1.0   \n",
      "3                   0.0                   0.0                    0.0   \n",
      "4                   1.0                   0.0                    1.0   \n",
      "\n",
      "   behavioral_large_gatherings  behavioral_outside_home  \\\n",
      "0                          1.0                      0.0   \n",
      "1                          0.0                      0.0   \n",
      "2                          1.0                      1.0   \n",
      "3                          0.0                      0.0   \n",
      "4                          1.0                      1.0   \n",
      "\n",
      "   behavioral_touch_face  doctor_recc_h1n1  ...  hhs_geo_region_fpwskwrf  \\\n",
      "0                    1.0               0.0  ...                      0.0   \n",
      "1                    0.0               0.0  ...                      0.0   \n",
      "2                    1.0               0.0  ...                      0.0   \n",
      "3                    0.0               1.0  ...                      0.0   \n",
      "4                    1.0               0.0  ...                      0.0   \n",
      "\n",
      "   hhs_geo_region_kbazzjca  hhs_geo_region_lrircsnp  hhs_geo_region_lzgpxyit  \\\n",
      "0                      0.0                      0.0                      0.0   \n",
      "1                      0.0                      0.0                      0.0   \n",
      "2                      0.0                      1.0                      0.0   \n",
      "3                      0.0                      1.0                      0.0   \n",
      "4                      0.0                      0.0                      1.0   \n",
      "\n",
      "   hhs_geo_region_mlyzmhmf  hhs_geo_region_oxchjgsf  hhs_geo_region_qufhixun  \\\n",
      "0                      1.0                      0.0                      0.0   \n",
      "1                      0.0                      0.0                      0.0   \n",
      "2                      0.0                      0.0                      0.0   \n",
      "3                      0.0                      0.0                      0.0   \n",
      "4                      0.0                      0.0                      0.0   \n",
      "\n",
      "   census_msa_MSA, Not Principle  City  census_msa_MSA, Principle City  \\\n",
      "0                                  1.0                             0.0   \n",
      "1                                  0.0                             0.0   \n",
      "2                                  0.0                             0.0   \n",
      "3                                  1.0                             0.0   \n",
      "4                                  0.0                             0.0   \n",
      "\n",
      "   census_msa_Non-MSA  \n",
      "0                 0.0  \n",
      "1                 1.0  \n",
      "2                 1.0  \n",
      "3                 0.0  \n",
      "4                 1.0  \n",
      "\n",
      "[5 rows x 61 columns]\n"
     ]
    }
   ],
   "source": [
    "import pandas as pd\n",
    "from sklearn.preprocessing import OneHotEncoder\n",
    "\n",
    "# Separate categorical and numerical features\n",
    "categorical_features = ['age_group', 'education', 'race', 'sex', 'income_poverty', \n",
    "                        'marital_status', 'rent_or_own', 'employment_status', \n",
    "                        'hhs_geo_region', 'census_msa']\n",
    "\n",
    "numerical_features = [col for col in test_features_df.columns if test_features_df[col].dtype in ['int64', 'float64']]\n",
    "numerical_features.remove('respondent_id')  # Remove `respondent_id` as it's not a feature\n",
    "\n",
    "# One-hot encode the categorical features\n",
    "encoder = OneHotEncoder(handle_unknown='ignore', sparse_output=False)\n",
    "encoded_categorical = encoder.fit_transform(test_features_df[categorical_features])\n",
    "\n",
    "# Convert one-hot encoded data to DataFrame\n",
    "encoded_categorical_df = pd.DataFrame(encoded_categorical, columns=encoder.get_feature_names_out(categorical_features))\n",
    "\n",
    "# Combine numerical and one-hot encoded categorical data\n",
    "encoded_test_data = pd.concat([test_features_df[numerical_features].reset_index(drop=True), \n",
    "                                   encoded_categorical_df.reset_index(drop=True)], axis=1)\n",
    "\n",
    "print(encoded_test_data.head())\n"
   ]
  },
  {
   "cell_type": "code",
   "execution_count": 26,
   "id": "27127964-4848-4fb1-b8e4-e7dfc129902f",
   "metadata": {},
   "outputs": [
    {
     "name": "stdout",
     "output_type": "stream",
     "text": [
      "Combined Encoded Features Shape: (53415, 61)\n",
      "   h1n1_concern  h1n1_knowledge  behavioral_antiviral_meds  \\\n",
      "0           1.0             0.0                        0.0   \n",
      "1           3.0             2.0                        0.0   \n",
      "2           1.0             1.0                        0.0   \n",
      "3           1.0             1.0                        0.0   \n",
      "4           2.0             1.0                        0.0   \n",
      "\n",
      "   behavioral_avoidance  behavioral_face_mask  behavioral_wash_hands  \\\n",
      "0                   0.0                   0.0                    0.0   \n",
      "1                   1.0                   0.0                    1.0   \n",
      "2                   1.0                   0.0                    0.0   \n",
      "3                   1.0                   0.0                    1.0   \n",
      "4                   1.0                   0.0                    1.0   \n",
      "\n",
      "   behavioral_large_gatherings  behavioral_outside_home  \\\n",
      "0                          0.0                      1.0   \n",
      "1                          0.0                      1.0   \n",
      "2                          0.0                      0.0   \n",
      "3                          1.0                      0.0   \n",
      "4                          1.0                      0.0   \n",
      "\n",
      "   behavioral_touch_face  doctor_recc_h1n1  ...  hhs_geo_region_fpwskwrf  \\\n",
      "0                    1.0               0.0  ...                      0.0   \n",
      "1                    1.0               0.0  ...                      0.0   \n",
      "2                    0.0               0.0  ...                      0.0   \n",
      "3                    0.0               0.0  ...                      0.0   \n",
      "4                    1.0               0.0  ...                      0.0   \n",
      "\n",
      "   hhs_geo_region_kbazzjca  hhs_geo_region_lrircsnp  hhs_geo_region_lzgpxyit  \\\n",
      "0                      0.0                      0.0                      0.0   \n",
      "1                      0.0                      0.0                      0.0   \n",
      "2                      0.0                      0.0                      0.0   \n",
      "3                      0.0                      1.0                      0.0   \n",
      "4                      0.0                      0.0                      0.0   \n",
      "\n",
      "   hhs_geo_region_mlyzmhmf  hhs_geo_region_oxchjgsf  hhs_geo_region_qufhixun  \\\n",
      "0                      0.0                      1.0                      0.0   \n",
      "1                      0.0                      0.0                      0.0   \n",
      "2                      0.0                      0.0                      1.0   \n",
      "3                      0.0                      0.0                      0.0   \n",
      "4                      0.0                      0.0                      1.0   \n",
      "\n",
      "   census_msa_MSA, Not Principle  City  census_msa_MSA, Principle City  \\\n",
      "0                                  0.0                             0.0   \n",
      "1                                  1.0                             0.0   \n",
      "2                                  1.0                             0.0   \n",
      "3                                  0.0                             1.0   \n",
      "4                                  1.0                             0.0   \n",
      "\n",
      "   census_msa_Non-MSA  \n",
      "0                 1.0  \n",
      "1                 0.0  \n",
      "2                 0.0  \n",
      "3                 0.0  \n",
      "4                 0.0  \n",
      "\n",
      "[5 rows x 61 columns]\n"
     ]
    }
   ],
   "source": [
    "# Align test features to have the same column order as training features\n",
    "encoded_test_features_df = encoded_test_data[encoded_training_data.columns]\n",
    "\n",
    "# Combine both DataFrames\n",
    "combined_encoded_features = pd.concat([encoded_training_data, encoded_test_data], axis=0, ignore_index=True)\n",
    "\n",
    "# Display the combined dataset's shape and a preview\n",
    "print(\"Combined Encoded Features Shape:\", combined_encoded_features.shape)\n",
    "print(combined_encoded_features.head())"
   ]
  },
  {
   "cell_type": "markdown",
   "id": "cf2c274d-7977-46fd-b993-6a6aacea7278",
   "metadata": {},
   "source": [
    "## Modelling\n",
    "Import the necessary libraries "
   ]
  },
  {
   "cell_type": "code",
   "execution_count": 27,
   "id": "7b72ca3c-1ca7-451b-acaa-bec13d801704",
   "metadata": {},
   "outputs": [],
   "source": [
    "import pandas as pd\n",
    "from sklearn.model_selection import train_test_split, GridSearchCV\n",
    "from sklearn.preprocessing import StandardScaler\n",
    "from sklearn.linear_model import LogisticRegression\n",
    "from sklearn.tree import DecisionTreeClassifier\n",
    "from sklearn.metrics import classification_report, accuracy_score, confusion_matrix\n",
    "import seaborn as sns\n",
    "import matplotlib.pyplot as plt\n",
    "\n",
    "# Define feature and target columns\n",
    "selected_features = [\n",
    "    'h1n1_concern', 'h1n1_knowledge', 'behavioral_face_mask', \n",
    "    'behavioral_avoidance', 'opinion_h1n1_vacc_effective',\n",
    "    'opinion_h1n1_risk', 'opinion_h1n1_sick_from_vacc',\n",
    "    'age_group', 'education', 'income_poverty'\n",
    "]\n",
    "\n",
    "# Split data into features (X) and target (y)\n",
    "X = training_features_df[selected_features]\n",
    "y = training_labels_df['h1n1_vaccine']  # Example target\n",
    "\n",
    "# Encode categorical features (if not encoded already)\n",
    "X = pd.get_dummies(X, drop_first=True)\n",
    "\n",
    "# Split into training and testing sets\n",
    "X_train, X_test, y_train, y_test = train_test_split(X, y, test_size=0.2, random_state=42)\n",
    "\n",
    "# Scale features\n",
    "scaler = StandardScaler()\n",
    "X_train_scaled = scaler.fit_transform(X_train)\n",
    "X_test_scaled = scaler.transform(X_test)\n"
   ]
  },
  {
   "cell_type": "markdown",
   "id": "ea785b57-13c2-4a36-8a0f-580ac85c4dfc",
   "metadata": {},
   "source": [
    "### Simple Logistic Regression"
   ]
  },
  {
   "cell_type": "code",
   "execution_count": 28,
   "id": "07b809e0-908a-47c8-9960-510c8eca7654",
   "metadata": {},
   "outputs": [
    {
     "name": "stdout",
     "output_type": "stream",
     "text": [
      "Logistic Regression Performance:\n",
      "Accuracy: 0.7134032197678772\n",
      "Classification Report:\n",
      "               precision    recall  f1-score   support\n",
      "\n",
      "           0       0.89      0.72      0.80      4212\n",
      "           1       0.40      0.68      0.50      1130\n",
      "\n",
      "    accuracy                           0.71      5342\n",
      "   macro avg       0.65      0.70      0.65      5342\n",
      "weighted avg       0.79      0.71      0.74      5342\n",
      "\n"
     ]
    },
    {
     "data": {
      "image/png": "[encoded data removed]",
      "text/plain": [
       "<Figure size 640x480 with 2 Axes>"
      ]
     },
     "metadata": {},
     "output_type": "display_data"
    }
   ],
   "source": [
    "\n",
    "# Train Logistic Regression\n",
    "logistic_model = LogisticRegression(random_state=42, class_weight='balanced')\n",
    "logistic_model.fit(X_train_scaled, y_train)\n",
    "\n",
    "# Make predictions\n",
    "y_pred_logistic = logistic_model.predict(X_test_scaled)\n",
    "\n",
    "# Evaluate the model\n",
    "print(\"Logistic Regression Performance:\")\n",
    "print(\"Accuracy:\", accuracy_score(y_test, y_pred_logistic))\n",
    "print(\"Classification Report:\\n\", classification_report(y_test, y_pred_logistic))\n",
    "\n",
    "# Visualize confusion matrix\n",
    "conf_matrix = confusion_matrix(y_test, y_pred_logistic)\n",
    "sns.heatmap(conf_matrix, annot=True, fmt='d', cmap='Blues')\n",
    "plt.title(\"Confusion Matrix - Logistic Regression\")\n",
    "plt.xlabel(\"Predicted\")\n",
    "plt.ylabel(\"Actual\")\n",
    "plt.show()\n"
   ]
  },
  {
   "cell_type": "markdown",
   "id": "07fa08ba-b072-438a-8100-bd1555bef4e6",
   "metadata": {},
   "source": [
    "True Negatives (TN) -Top-left: 3040.These are the instances where the model correctly predicted people as not taking the vaccine (class 0), and they actually did not\n",
    "\n",
    "False Positives (FP) -Top-right: 1172.These are the instances where the model incorrectly predicted people as having taken the vaccine (class 1), but they did not.\n",
    "\n",
    "False Negatives (FN) -Bottom-left: 359.These are the instances where the model incorrectly predicted people as not taking the vaccine (class 0), but they actually did.\n",
    "\n",
    "True Positives (TP) -Bottom-right: 771.These are the instances where the model correctly predicted people as having taken the vaccine (class 1)\n",
    "\n",
    "\n",
    "Class 1(Positive Class0:\n",
    "\n",
    "Precision = 0.40:Out of all the instances predicted as class 1, only 40% were correct. This suggests many false positives for class 1.\n",
    "\n",
    "Recall = 0.68:The model correctly identified 68% of all actual class 1 instances.\n",
    "\n",
    "F1-Score = 0.50:The F1-score is relatively low, showing that the model struggles with balancing precision and recall for class 1\n",
    "\n",
    "Class 0 (Negative Class):\n",
    "\n",
    "Precision = 0.89:Out of all the instances predicted as class 0, 89% were correct.\n",
    "\n",
    "Recall = 0.72:The model correctly identified 72% of all actual class 0 instances.\n",
    "\n",
    "F1-Score = 0.80:This indicates a strong balance between precision and recall for class 0.\n"
   ]
  },
  {
   "cell_type": "markdown",
   "id": "9f4a41ee-02a4-4f10-9f26-62222d40ee91",
   "metadata": {},
   "source": [
    "### Hyperparameter Tuning with Logistic Regression"
   ]
  },
  {
   "cell_type": "code",
   "execution_count": 32,
   "id": "abdfe86a-1058-4ae6-9842-a6007b17d209",
   "metadata": {},
   "outputs": [
    {
     "name": "stdout",
     "output_type": "stream",
     "text": [
      "Best Parameters for Logistic Regression: {'C': 0.1, 'solver': 'liblinear'}\n",
      "Best Cross-Validation Accuracy: 0.810718464778844\n",
      "Tuned Logistic Regression Accuracy: 0.8113066267315612\n",
      "Classification Report:\n",
      "               precision    recall  f1-score   support\n",
      "\n",
      "           0       0.86      0.87      0.87      4212\n",
      "           1       0.50      0.48      0.49      1130\n",
      "\n",
      "    accuracy                           0.79      5342\n",
      "   macro avg       0.68      0.67      0.68      5342\n",
      "weighted avg       0.78      0.79      0.79      5342\n",
      "\n"
     ]
    },
    {
     "data": {
      "image/png": "[encoded data removed]",
      "text/plain": [
       "<Figure size 640x480 with 2 Axes>"
      ]
     },
     "metadata": {},
     "output_type": "display_data"
    }
   ],
   "source": [
    "from sklearn.model_selection import GridSearchCV\n",
    "\n",
    "# Define the parameter grid\n",
    "param_grid = {\n",
    "    'C': [0.01, 0.1, 1, 10],  # Regularization strength\n",
    "    'solver': ['liblinear', 'lbfgs']  # Optimization algorithms\n",
    "}\n",
    "\n",
    "# Create the model\n",
    "logistic_model_tuned = LogisticRegression(random_state=42)\n",
    "\n",
    "# Perform Grid Search\n",
    "grid_search_logistic = GridSearchCV(logistic_model_tuned, param_grid, cv=5, scoring='accuracy')\n",
    "grid_search_logistic.fit(X_train_scaled, y_train)\n",
    "\n",
    "# Best parameters and performance\n",
    "print(\"Best Parameters for Logistic Regression:\", grid_search_logistic.best_params_)\n",
    "print(\"Best Cross-Validation Accuracy:\", grid_search_logistic.best_score_)\n",
    "\n",
    "# Predict and evaluate\n",
    "y_pred_tuned = grid_search_logistic.best_estimator_.predict(X_test_scaled)\n",
    "print(\"Tuned Logistic Regression Accuracy:\", accuracy_score(y_test, y_pred_tuned))\n",
    "print(\"Classification Report:\\n\", classification_report(y_test, y_pred_logistic))\n",
    "\n",
    "\n",
    "#visualize\n",
    "conf_matrix = confusion_matrix(y_test, y_pred_tuned)\n",
    "sns.heatmap(conf_matrix, annot=True, fmt='d', cmap='Blues')\n",
    "plt.title(\"Confusion Matrix - Logistic Regression\")\n",
    "plt.xlabel(\"Predicted\")\n",
    "plt.ylabel(\"Actual\")\n",
    "plt.show()"
   ]
  },
  {
   "cell_type": "markdown",
   "id": "286a1145-ceb0-4e32-9071-aba11bc41dcf",
   "metadata": {},
   "source": [
    "True Negatives (TN) -Top-left: 4036.These are the instances where the model correctly predicted people as not taking the vaccine (class 0), and they actually did not\n",
    "\n",
    "False Positives (FP) -Top-right: 176.These are the instances where the model incorrectly predicted people as having taken the vaccine (class 1), but they did not.\n",
    "\n",
    "False Negatives (FN) -Bottom-left: 832.These are the instances where the model incorrectly predicted people as not taking the vaccine (class 0), but they actually did..\n",
    "\n",
    "True Positives (TP) -Bottom-right: 298.These are the instances where  the model correctly predicted people as having taken the vaccine (class 1)..\n",
    "\n",
    "Class 0 (Did Not Take Vaccine):\n",
    "\n",
    "Precision: Slightly decreased from 0.89 to 0.86.\n",
    "\n",
    "Recall: Increased from 0.72 to 0.87, meaning the model is now better at correctly identifying those who didn’t take the vaccine.\n",
    "\n",
    "F1-Score: Improved from 0.80 to 0.87, showing a better balance between precision and recall.\n",
    "\n",
    "Class 1 (Took Vaccine):\n",
    "\n",
    "Precision: Improved from 0.40 to 0.50, meaning fewer false positives for this class.\n",
    "\n",
    "Recall: Decreased from 0.68 to 0.48, meaning the model misses more people who actually took the vaccine.\n",
    "\n",
    "F1-Score: Slightly decreased from 0.50 to 0.49.\n",
    "\n",
    "Overall Accuracy:\n",
    "\n",
    "Increased from 71% to 79%, showing overall improvement in the model's performance.\n",
    "Macro Average (Equal Weight for Both Classes):\n",
    "\n",
    "Precision: Improved from 0.65 to 0.68.\n",
    "Recall: Dropped slightly from 0.70 to 0.67.\n",
    "F1-Score: Improved from 0.65 to 0.68.\n",
    "\n",
    "Precision, Recall, and F1-Score: All increased from approximately 0.74 to 0.79, showing that overall the model is better.\n",
    "\n",
    "The accuracy improved significantly, suggesting better overall predictions.\n",
    "The model became better at identifying people who didn’t take the vaccine (Class 0), with higher recall and F1-score for this class.\n"
   ]
  },
  {
   "cell_type": "markdown",
   "id": "3e5e462a-8913-4e8b-bae8-59ea6fbd3cc5",
   "metadata": {},
   "source": [
    "###  Simple Decision Tree"
   ]
  },
  {
   "cell_type": "code",
   "execution_count": 34,
   "id": "36a83e2b-1eaa-4d4c-901e-7af8b36722f9",
   "metadata": {},
   "outputs": [
    {
     "name": "stdout",
     "output_type": "stream",
     "text": [
      "Decision Tree Performance:\n",
      "Accuracy: 0.7643204792212654\n",
      "Classification Report:\n",
      "               precision    recall  f1-score   support\n",
      "\n",
      "           0       0.83      0.89      0.86      4212\n",
      "           1       0.42      0.30      0.35      1130\n",
      "\n",
      "    accuracy                           0.76      5342\n",
      "   macro avg       0.62      0.59      0.60      5342\n",
      "weighted avg       0.74      0.76      0.75      5342\n",
      "\n"
     ]
    },
    {
     "data": {
      "image/png": "[encoded data removed]",
      "text/plain": [
       "<Figure size 640x480 with 2 Axes>"
      ]
     },
     "metadata": {},
     "output_type": "display_data"
    }
   ],
   "source": [
    "# Import necessary libraries\n",
    "from sklearn.tree import DecisionTreeClassifier\n",
    "\n",
    "# Train Decision Tree\n",
    "tree_model = DecisionTreeClassifier(random_state=42)\n",
    "tree_model.fit(X_train_scaled, y_train)\n",
    "\n",
    "# Make predictions\n",
    "y_pred_tree = tree_model.predict(X_test_scaled)\n",
    "\n",
    "# Evaluate the model\n",
    "print(\"Decision Tree Performance:\")\n",
    "print(\"Accuracy:\", accuracy_score(y_test, y_pred_tree))\n",
    "print(\"Classification Report:\\n\", classification_report(y_test, y_pred_tree))\n",
    "\n",
    "# Visualize confusion matrix\n",
    "conf_matrix = confusion_matrix(y_test, y_pred_tree)\n",
    "sns.heatmap(conf_matrix, annot=True, fmt='d', cmap='Greens')\n",
    "plt.title(\"Confusion Matrix - Decision Tree\")\n",
    "plt.xlabel(\"Predicted\")\n",
    "plt.ylabel(\"Actual\")\n",
    "plt.show()\n"
   ]
  },
  {
   "cell_type": "markdown",
   "id": "3d529ee6-2a89-4023-97cb-a437c38f1d29",
   "metadata": {},
   "source": [
    "True Negatives (3744):The model correctly predicted 3744 people as not taking the vaccine (class 0), and they actually did not.\n",
    "\n",
    "False Positives (468):The model incorrectly predicted 468 people as having taken the vaccine (class 1), but they did not.\n",
    "\n",
    "False Negatives (791):The model incorrectly predicted 791 people as not taking the vaccine (class 0), but they actually did.\n",
    "\n",
    "True Positives (339):The model correctly predicted 339 people as having taken the vaccine (class 1).\n",
    "\n",
    "class 0 (Did Not Take Vaccine):\n",
    "\n",
    "Precision (0.83):When the model predicts someone did not take the vaccine, it is correct 83% of the time.This means relatively few false positives for this class.\n",
    "\n",
    "Recall (0.89):Out of all the people who actually did not take the vaccine, the model correctly identifies 89% of them.The model is good at catching most cases in this class.\n",
    "\n",
    "F1-Score (0.86):The F1-score balances precision and recall, and here it shows strong performance for class 0.\n",
    "\n",
    "Class 1 (Took Vaccine):\n",
    "Precision (0.42):When the model predicts someone took the vaccine, it is only correct 42% of the time.This indicates a high number of false positives for class 1.\n",
    "\n",
    "Recall (0.30):Out of all the people who actually took the vaccine, the model correctly identifies only 30% of them.The model struggles to identify individuals in this class.\n",
    "\n",
    "F1-Score (0.35):The F1-score is low, reflecting the poor balance of precision and recall for class 1.\n",
    "\n",
    "The model performs well in predicting people who did not take the vaccine (class 0).\n",
    "It struggles significantly in identifying people who took the vaccine (class 1), as shown by the low precision and recall.\n"
   ]
  },
  {
   "cell_type": "code",
   "execution_count": 36,
   "id": "56b754ad-31d0-42f4-8cf5-3eecd2f00c74",
   "metadata": {},
   "outputs": [
    {
     "name": "stdout",
     "output_type": "stream",
     "text": [
      "Best Parameters for Decision Tree: {'max_depth': 5, 'min_samples_leaf': 1, 'min_samples_split': 2}\n",
      "Best Cross-Validation Accuracy: 0.8057570793353616\n",
      "Tuned Decision Tree Accuracy: 0.8088730812429802\n",
      "Classification Report:\n",
      "               precision    recall  f1-score   support\n",
      "\n",
      "           0       0.84      0.94      0.89      4212\n",
      "           1       0.59      0.33      0.42      1130\n",
      "\n",
      "    accuracy                           0.81      5342\n",
      "   macro avg       0.71      0.63      0.65      5342\n",
      "weighted avg       0.79      0.81      0.79      5342\n",
      "\n"
     ]
    },
    {
     "data": {
      "image/png": "[encoded data removed]",
      "text/plain": [
       "<Figure size 640x480 with 2 Axes>"
      ]
     },
     "metadata": {},
     "output_type": "display_data"
    }
   ],
   "source": [
    "# Define the parameter grid\n",
    "param_grid_tree = {\n",
    "    'max_depth': [3, 5, 10, None],  # Depth of the tree\n",
    "    'min_samples_split': [2, 5, 10],  # Minimum samples to split a node\n",
    "    'min_samples_leaf': [1, 2, 4]  # Minimum samples at a leaf node\n",
    "}\n",
    "\n",
    "# Create the model\n",
    "tree_model_tuned = DecisionTreeClassifier(random_state=42)\n",
    "\n",
    "# Perform Grid Search\n",
    "grid_search_tree = GridSearchCV(tree_model_tuned, param_grid_tree, cv=5, scoring='accuracy')\n",
    "grid_search_tree.fit(X_train_scaled, y_train)\n",
    "\n",
    "# Best parameters and performance\n",
    "print(\"Best Parameters for Decision Tree:\", grid_search_tree.best_params_)\n",
    "print(\"Best Cross-Validation Accuracy:\", grid_search_tree.best_score_)\n",
    "\n",
    "\n",
    "\n",
    "# Predict and evaluate\n",
    "y_pred_tree_tuned = grid_search_tree.best_estimator_.predict(X_test_scaled)\n",
    "print(\"Tuned Decision Tree Accuracy:\", accuracy_score(y_test, y_pred_tree_tuned))\n",
    "print(\"Classification Report:\\n\", classification_report(y_test, y_pred_tree_tuned))\n",
    "\n",
    "\n",
    "# Visualize confusion matrix\n",
    "conf_matrix = confusion_matrix(y_test, y_pred_tree_tuned)\n",
    "sns.heatmap(conf_matrix, annot=True, fmt='d', cmap='Greens')\n",
    "plt.title(\"Confusion Matrix - Decision Tree\")\n",
    "plt.xlabel(\"Predicted\")\n",
    "plt.ylabel(\"Actual\")\n",
    "plt.show()\n",
    "\n",
    "\n",
    "\n"
   ]
  },
  {
   "cell_type": "markdown",
   "id": "8c49c1d8-cfd5-4abc-8d19-03409ee1368a",
   "metadata": {},
   "source": [
    "Simple Decision Tree Model: Accuracy = 76%, and struggled with class 1 (low recall and precision).\n",
    "\n",
    "Tuned Model: Accuracy = 81%, showing improvement across both classes, though class 1 still has low recall.\n",
    "\n",
    "Class 0 (Did Not Take Vaccine):\n",
    "\n",
    "Simple Decision Tree Model: High precision (83%) and recall (89%).\n",
    "\n",
    "Tuned Model: Slightly better precision (84%) and recall (94%).\n",
    "\n",
    "Class 1 (Took Vaccine):\n",
    "\n",
    "Simple Decision Tree Model: Low precision (42%) and recall (30%).\n",
    "\n",
    "Tuned Model: Precision has improved significantly to 59%, but recall remains at 33%, which still shows that the model is missing many true cases of class 1.\n",
    "\n",
    "Accuracy:\n",
    "\n",
    "The tuned model performs better overall with 81% accuracy compared to the earlier model’s 76%."
   ]
  },
  {
   "cell_type": "markdown",
   "id": "79cef3c4-3807-4ad1-8962-11adef42d520",
   "metadata": {},
   "source": [
    "## Evaluation\n",
    "The model predicts the likelihood of vaccine uptake based on various factors such as age, gender, health status, and prior vaccine perceptions. The most important features influencing vaccine uptake include health-related factors (such as chronic conditions) and personal beliefs about vaccine effectiveness. While the model is able to predict the target with reasonable accuracy, it is more effective for certain groups (e.g., those with strong health concerns) and less reliable for others (e.g., those with vaccine hesitancy). To improve predictions and outcomes, the business could focus on addressing concerns related to vaccine effectiveness and targeting high-risk groups more effectively.\n",
    "\n",
    "The models  built, including Logistic Regression and Decision Tree, have shown decent performance with an accuracy of around 81%. While there is room for improvement, particularly in predicting certain groups who are less likely to take the vaccine, the current results provide valuable insights. To further refine the models, we could enhance feature engineering, adjust hyperparameters, or explore advanced methods like ensemble models. However, the model’s performance is sufficient to move forward with deployment. The insights gathered so far can be used to guide strategies aimed at improving vaccine uptake, making it ready for practical use."
   ]
  },
  {
   "cell_type": "markdown",
   "id": "f5c75b7f-7593-4dd4-97ea-91c17eaea984",
   "metadata": {},
   "source": [
    "## Recommendations\n",
    "\n",
    "The model’s predictions are useful for targeting specific groups to increase vaccine uptake, efficiently allocating resources, and designing personalized campaigns. However, it may not be useful in situations where the data is incomplete or unrepresentative of certain populations, or if external factors change drastically. To improve results, the business could enhance data quality, focus on specific demographics, and update the model regularly with new data. By adjusting input variables, such as adding features related to health behavior or socioeconomic status, the model can better predict vaccine uptake and guide more effective interventions.\n"
   ]
  },
  {
   "cell_type": "code",
   "execution_count": null,
   "id": "9072d923-0460-48a0-837b-0cf634ee18de",
   "metadata": {},
   "outputs": [],
   "source": []
  }
 ],
 "metadata": {
  "kernelspec": {
   "display_name": "Python 3 (ipykernel)",
   "language": "python",
   "name": "python3"
  },
  "language_info": {
   "codemirror_mode": {
    "name": "ipython",
    "version": 3
   },
   "file_extension": ".py",
   "mimetype": "text/x-python",
   "name": "python",
   "nbconvert_exporter": "python",
   "pygments_lexer": "ipython3",
   "version": "3.12.4"
  }
 },
 "nbformat": 4,
 "nbformat_minor": 5
}
